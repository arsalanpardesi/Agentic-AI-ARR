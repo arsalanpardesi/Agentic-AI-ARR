{
 "cells": [
  {
   "cell_type": "markdown",
   "id": "3e0fbcc5",
   "metadata": {},
   "source": [
    "## Installing required libraries"
   ]
  },
  {
   "cell_type": "code",
   "execution_count": null,
   "id": "f16abe8c",
   "metadata": {},
   "outputs": [],
   "source": [
    "!pip install autogen-agentchat\n",
    "!pip install autogen-ext[ollama]"
   ]
  },
  {
   "cell_type": "code",
   "execution_count": null,
   "id": "a4569774",
   "metadata": {},
   "outputs": [],
   "source": [
    "!pip install ollama"
   ]
  },
  {
   "cell_type": "markdown",
   "id": "8db028d8",
   "metadata": {},
   "source": [
    "## Check ollama"
   ]
  },
  {
   "cell_type": "code",
   "execution_count": null,
   "id": "4a5995cf",
   "metadata": {},
   "outputs": [],
   "source": [
    "import ollama\n",
    "\n",
    "result = ollama.generate(model='qwen3:14b', prompt ='What is your name? respond in 1 line only')\n",
    "print(result['response'])"
   ]
  },
  {
   "cell_type": "markdown",
   "id": "568021f1",
   "metadata": {},
   "source": [
    "## Create agents"
   ]
  },
  {
   "cell_type": "code",
   "execution_count": null,
   "id": "fe8cf816",
   "metadata": {},
   "outputs": [],
   "source": [
    "from autogen_ext.models.ollama import OllamaChatCompletionClient\n",
    "\n",
    "#Create a client with local Qwen\n",
    "\n",
    "ollama_client = OllamaChatCompletionClient(\n",
    "    model=\"qwen3:14b\",\n",
    "    api_key=\"placeholder\",\n",
    "    base_url=\"http://localhost:11434/v1\",\n",
    "    model_info={\n",
    "        \"function_calling\": True,\n",
    "        \"json_output\": True,\n",
    "        \"vision\": False,\n",
    "        \"family\": \"unknown\"\n",
    "    }\n",
    ")"
   ]
  },
  {
   "cell_type": "code",
   "execution_count": null,
   "id": "97c45496",
   "metadata": {},
   "outputs": [],
   "source": [
    "# Get ARR data\n",
    "import numpy as np\n",
    "import pandas as pd\n",
    "\n",
    "def get_ARR_data():\n",
    "    \"\"\"Get the ARR data in a pandas dataframe format\"\"\"\n",
    "    ARR_data = pd.read_csv(\"Customer_Level_ARR_Changes.csv\")\n",
    "    return ARR_data"
   ]
  },
  {
   "cell_type": "code",
   "execution_count": null,
   "id": "cfbb0997",
   "metadata": {
    "scrolled": false
   },
   "outputs": [],
   "source": [
    "# Checking ARR function\n",
    "\n",
    "arr_dataframe = get_ARR_data()\n",
    "arr_dataframe.head()"
   ]
  },
  {
   "cell_type": "code",
   "execution_count": null,
   "id": "6da7970a",
   "metadata": {},
   "outputs": [],
   "source": [
    "# define a function to calculate retention\n",
    "\n",
    "def analyze_arr_rollforward():\n",
    "    \n",
    "    \"\"\"\n",
    "    Analyzes ARR retention and returns metrics per year:\n",
    "    - Total ARR\n",
    "    - Top 2 customer losses (with amount)\n",
    "    - Top 2 new wins (with amount)\n",
    "    - Gross Retention %\n",
    "    - Net Retention %\n",
    "        \n",
    "    Returns:\n",
    "        dict: A dictionary of metrics per year\n",
    "    \"\"\"\n",
    "    \n",
    "    \n",
    "    results = {}\n",
    "    \n",
    "    df=get_ARR_data()\n",
    "    year_columns = [\"Year 1 ARR ($)\", \"Year 2 ARR ($)\", \"Year 3 ARR ($)\"]\n",
    "    customer_id_col=\"Customer ID\"\n",
    "    \n",
    "    for i in range(1, len(year_columns)):\n",
    "        prev_year = year_columns[i - 1]\n",
    "        curr_year = year_columns[i]\n",
    "\n",
    "        # Merge current and previous year ARR for all customers\n",
    "        prev_df = df[[customer_id_col, prev_year]].copy()\n",
    "        curr_df = df[[customer_id_col, curr_year]].copy()\n",
    "        merged = pd.merge(prev_df, curr_df, on=customer_id_col, how='outer').fillna(0)\n",
    "\n",
    "        # Compute delta\n",
    "        merged['delta'] = merged[curr_year] - merged[prev_year]\n",
    "\n",
    "        # Identify categories\n",
    "        retained = (merged[prev_year] > 0) & (merged[curr_year] > 0)\n",
    "        churned = (merged[prev_year] > 0) & (merged[curr_year] == 0)\n",
    "        new_customers = (merged[prev_year] == 0) & (merged[curr_year] > 0)\n",
    "\n",
    "        starting_arr = merged.loc[retained | churned, prev_year].sum()\n",
    "        upsell = merged.loc[retained & (merged['delta'] > 0), 'delta'].sum()\n",
    "        downsell = merged.loc[retained & (merged['delta'] < 0), 'delta'].sum()\n",
    "        churn = merged.loc[churned, prev_year].sum() * -1\n",
    "\n",
    "        # Metrics\n",
    "        total_arr = merged[curr_year].sum()\n",
    "        gross_retention = ((starting_arr + downsell + churn) / starting_arr * 100) if starting_arr else 0\n",
    "        net_retention = ((starting_arr + downsell + churn + upsell) / starting_arr * 100) if starting_arr else 0\n",
    "\n",
    "        # Top 2 losses\n",
    "        merged['loss_amount'] = merged[prev_year] - merged[curr_year]\n",
    "        top_losses = merged.sort_values('loss_amount', ascending=False).head(2)[[customer_id_col, 'loss_amount']].to_dict(orient='records')\n",
    "\n",
    "        # Top 2 new wins\n",
    "        wins = merged[new_customers].copy()\n",
    "        wins['win_amount'] = wins[curr_year]\n",
    "        top_wins = wins.sort_values('win_amount', ascending=False).head(2)[[customer_id_col, 'win_amount']].to_dict(orient='records')\n",
    "\n",
    "        # Store in results\n",
    "        results[f\"{prev_year} to {curr_year}\"] = {\n",
    "            \"Total ARR\": round(total_arr, 2),\n",
    "            \"Starting ARR\": round(starting_arr, 2),\n",
    "            #\"Upsell\": round(upsell, 2),\n",
    "            #\"Downsell\": round(downsell, 2),\n",
    "            #\"Churn\": round(churn,2),\n",
    "            \"Top 2 Customer Lost or downsell\": top_losses,\n",
    "            \"Top 2 New Wins\": top_wins,\n",
    "            \"Gross Retention %\": round(gross_retention, 2),\n",
    "            \"Net Retention %\": round(net_retention, 2)\n",
    "        }\n",
    "\n",
    "    return results\n",
    "\n"
   ]
  },
  {
   "cell_type": "code",
   "execution_count": null,
   "id": "3dbc2f09",
   "metadata": {},
   "outputs": [],
   "source": [
    "#check analyze ARR function\n",
    "retention_metrics = analyze_arr_rollforward()\n",
    "print(retention_metrics)"
   ]
  },
  {
   "cell_type": "code",
   "execution_count": null,
   "id": "341964f4",
   "metadata": {},
   "outputs": [],
   "source": [
    "from autogen_agentchat.agents import CodeExecutorAgent, AssistantAgent\n",
    "#from autogen_ext.code_executors.docker import DockerCommandLineCodeExecutor\n",
    "#from autogen_core import CancellationToken\n",
    "from autogen_agentchat.conditions import HandoffTermination, TextMentionTermination\n",
    "from autogen_agentchat.teams import Swarm\n",
    "from autogen_agentchat.ui import Console"
   ]
  },
  {
   "cell_type": "code",
   "execution_count": null,
   "id": "789bb7e0",
   "metadata": {},
   "outputs": [],
   "source": [
    "#Creating a planner agent\n",
    "\n",
    "planner = AssistantAgent(\n",
    "    \"planner\",\n",
    "    model_client=ollama_client,\n",
    "    handoffs=[\"financial_analyst\", \"data_analyst\", \"writer\"],\n",
    "    system_message=\"\"\"You are a ARR and retention planning coordinator.\n",
    "    Coordinate ARR and retention analysis by delegating to specialized agents:\n",
    "    - financial_analyst: For ARR and retention analysis and generating insights\n",
    "    - data_analyst: For calculating ARR and retention metrics\n",
    "    - writer: For writing the final report in a concise manner\n",
    "    Always send your plan first, then handoff to appropriate agent.\n",
    "    Always handoff to a single agent at a time.\n",
    "    Provide the user with the final report and Respond with TERMINATE when analysis is complete.\"\"\",\n",
    ")\n",
    "\n",
    "\n",
    "#Creating the data_analyst\n",
    "\n",
    "data_analyst = AssistantAgent(\n",
    "    \"data_analyst\",\n",
    "    model_client=ollama_client,\n",
    "    handoffs=['planner'],\n",
    "    tools=[analyze_arr_rollforward],\n",
    "    system_message=\"\"\"You are a data analyst.\n",
    "    You will generate ARR and retention metrics using the tool analyze_ARR_rollfoward.\n",
    "    Always handoff back to the planner when the analysis is complete.\n",
    "    \"\"\",\n",
    ")\n",
    "\n",
    "# Creating financial analyst agent\n",
    "\n",
    "financial_analyst = AssistantAgent(\n",
    "    \"financial_analyst\",\n",
    "    model_client=ollama_client,\n",
    "    handoffs=[\"planner\"],\n",
    "    tools=[get_ARR_data],\n",
    "    system_message=\"\"\"You are a financial analyst.\n",
    "    Analyze the ARR data using the get_ARR_data.\n",
    "    Analyze the ARR and retention metrics calculated by the data_analyst and provided by planner\n",
    "    Provide insights on ARR and retention metrics.\n",
    "    Always handoff back to the planner when analysis in complete.\n",
    "    \"\"\",\n",
    ")\n",
    "\n",
    "#Creating writer agent\n",
    "writer = AssistantAgent(\n",
    "    \"writer\",\n",
    "    model_client=ollama_client,\n",
    "    handoffs=[\"planner\"],\n",
    "    system_message=\"\"\"You are a due diligence report writer.\n",
    "    Compile the ARR analysis and findings into clear, concise report.\n",
    "    Always handoff back to the planner when writing is complete.\"\"\",\n",
    ")\n",
    "\n"
   ]
  },
  {
   "cell_type": "code",
   "execution_count": null,
   "id": "5454eaed",
   "metadata": {},
   "outputs": [],
   "source": [
    "# Define termination condition\n",
    "\n",
    "text_termination = TextMentionTermination(\"Terminate\")\n",
    "termination = text_termination\n",
    "\n",
    "research_team = Swarm(\n",
    "    participants=[planner, financial_analyst, data_analyst, writer], termination_condition=termination    \n",
    ")"
   ]
  },
  {
   "cell_type": "code",
   "execution_count": null,
   "id": "3063109c",
   "metadata": {},
   "outputs": [],
   "source": [
    "task = \"Conduct ARR analysis based on the data provided for software company.\"\n",
    "await Console(research_team.run_stream(task=task))\n",
    "await ollama_client.close()"
   ]
  }
 ],
 "metadata": {
  "kernelspec": {
   "display_name": "Python 3 (ipykernel)",
   "language": "python",
   "name": "python3"
  },
  "language_info": {
   "codemirror_mode": {
    "name": "ipython",
    "version": 3
   },
   "file_extension": ".py",
   "mimetype": "text/x-python",
   "name": "python",
   "nbconvert_exporter": "python",
   "pygments_lexer": "ipython3",
   "version": "3.10.11"
  }
 },
 "nbformat": 4,
 "nbformat_minor": 5
}
